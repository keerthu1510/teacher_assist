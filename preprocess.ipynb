{
 "cells": [
  {
   "cell_type": "code",
   "execution_count": 2,
   "metadata": {},
   "outputs": [],
   "source": [
    "from sklearn.preprocessing import MinMaxScaler\n",
    "from imblearn.over_sampling import SMOTE\n",
    "import pandas as pd\n",
    "from sklearn.preprocessing import LabelEncoder\n",
    "# Load your dataset\n",
    "data = pd.read_csv('realdata.csv')\n",
    "\n",
    "# Separate features and target variable\n",
    "X = data.drop('Grade', axis=1)\n",
    "#X = X.drop('Timestamp',axis=1)\n",
    "y = data['Grade']\n",
    "\n",
    "\n",
    "# Step 2: Data Augmentation with SMOTE\n",
    "smote = SMOTE()\n",
    "X_resampled, y_resampled = smote.fit_resample(X, y)\n",
    "\n",
    "# Convert back to DataFrame\n",
    "X_resampled_df = pd.DataFrame(X_resampled, columns=X.columns)\n",
    "y_resampled_df  = pd.Series(y_resampled, name='Grade')\n",
    "\n",
    "# Concatenate features and target variable\n",
    "augmented_data = pd.concat([X_resampled_df, y_resampled_df], axis=1)\n",
    "\n",
    "# Save augmented dataset to a new CSV file\n",
    "augmented_data.to_csv('augmented_dataset.csv', index=False)\n"
   ]
  }
 ],
 "metadata": {
  "kernelspec": {
   "display_name": ".venv",
   "language": "python",
   "name": "python3"
  },
  "language_info": {
   "codemirror_mode": {
    "name": "ipython",
    "version": 3
   },
   "file_extension": ".py",
   "mimetype": "text/x-python",
   "name": "python",
   "nbconvert_exporter": "python",
   "pygments_lexer": "ipython3",
   "version": "3.12.0"
  }
 },
 "nbformat": 4,
 "nbformat_minor": 2
}
